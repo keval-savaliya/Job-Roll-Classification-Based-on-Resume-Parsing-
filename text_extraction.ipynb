{
  "cells": [
    {
      "cell_type": "code",
      "execution_count": 1,
      "metadata": {
        "colab": {
          "base_uri": "https://localhost:8080/"
        },
        "id": "1-YC7wVbwTnf",
        "outputId": "1f92e2c5-7a6d-4e41-fceb-85edf30c950d"
      },
      "outputs": [
        {
          "output_type": "stream",
          "name": "stdout",
          "text": [
            "Collecting PyPDF2\n",
            "  Downloading pypdf2-3.0.1-py3-none-any.whl (232 kB)\n",
            "\u001b[2K     \u001b[90m━━━━━━━━━━━━━━━━━━━━━━━━━━━━━━━━━━━━━━━━\u001b[0m \u001b[32m232.6/232.6 kB\u001b[0m \u001b[31m5.0 MB/s\u001b[0m eta \u001b[36m0:00:00\u001b[0m\n",
            "\u001b[?25hInstalling collected packages: PyPDF2\n",
            "Successfully installed PyPDF2-3.0.1\n"
          ]
        }
      ],
      "source": [
        "pip install PyPDF2"
      ]
    },
    {
      "cell_type": "code",
      "execution_count": 2,
      "metadata": {
        "colab": {
          "base_uri": "https://localhost:8080/"
        },
        "id": "SkOto6JOwcCh",
        "outputId": "ad95666e-8206-417c-9caf-682d68a71625"
      },
      "outputs": [
        {
          "output_type": "stream",
          "name": "stdout",
          "text": [
            "Collecting docx\n",
            "  Downloading docx-0.2.4.tar.gz (54 kB)\n",
            "\u001b[?25l     \u001b[90m━━━━━━━━━━━━━━━━━━━━━━━━━━━━━━━━━━━━━━━━\u001b[0m \u001b[32m0.0/54.9 kB\u001b[0m \u001b[31m?\u001b[0m eta \u001b[36m-:--:--\u001b[0m\r\u001b[2K     \u001b[90m━━━━━━━━━━━━━━━━━━━━━━━━━━━━━━━━━━━━━━━━\u001b[0m \u001b[32m54.9/54.9 kB\u001b[0m \u001b[31m1.9 MB/s\u001b[0m eta \u001b[36m0:00:00\u001b[0m\n",
            "\u001b[?25h  Preparing metadata (setup.py) ... \u001b[?25l\u001b[?25hdone\n",
            "Requirement already satisfied: lxml in /usr/local/lib/python3.10/dist-packages (from docx) (4.9.4)\n",
            "Requirement already satisfied: Pillow>=2.0 in /usr/local/lib/python3.10/dist-packages (from docx) (9.4.0)\n",
            "Building wheels for collected packages: docx\n",
            "  Building wheel for docx (setup.py) ... \u001b[?25l\u001b[?25hdone\n",
            "  Created wheel for docx: filename=docx-0.2.4-py3-none-any.whl size=53895 sha256=223f92c0089e446b46a9a8030c23b8f6e16b59cdb8c043022560672b7af77383\n",
            "  Stored in directory: /root/.cache/pip/wheels/81/f5/1d/e09ba2c1907a43a4146d1189ae4733ca1a3bfe27ee39507767\n",
            "Successfully built docx\n",
            "Installing collected packages: docx\n",
            "Successfully installed docx-0.2.4\n"
          ]
        }
      ],
      "source": [
        "pip install docx"
      ]
    },
    {
      "cell_type": "code",
      "execution_count": 3,
      "metadata": {
        "colab": {
          "base_uri": "https://localhost:8080/"
        },
        "id": "EkUTIV7Ewfey",
        "outputId": "61e84187-2d9d-4833-b67c-42206f9ef82b"
      },
      "outputs": [
        {
          "output_type": "stream",
          "name": "stdout",
          "text": [
            "Collecting bs4\n",
            "  Downloading bs4-0.0.2-py2.py3-none-any.whl (1.2 kB)\n",
            "Requirement already satisfied: beautifulsoup4 in /usr/local/lib/python3.10/dist-packages (from bs4) (4.12.3)\n",
            "Requirement already satisfied: soupsieve>1.2 in /usr/local/lib/python3.10/dist-packages (from beautifulsoup4->bs4) (2.5)\n",
            "Installing collected packages: bs4\n",
            "Successfully installed bs4-0.0.2\n"
          ]
        }
      ],
      "source": [
        "pip install bs4"
      ]
    },
    {
      "cell_type": "code",
      "execution_count": 4,
      "metadata": {
        "colab": {
          "base_uri": "https://localhost:8080/"
        },
        "id": "20xhnfCgwiYX",
        "outputId": "e4afe67d-4802-43e9-f33e-a49c6a01352c"
      },
      "outputs": [
        {
          "output_type": "stream",
          "name": "stdout",
          "text": [
            "Collecting pytesseract\n",
            "  Downloading pytesseract-0.3.10-py3-none-any.whl (14 kB)\n",
            "Requirement already satisfied: packaging>=21.3 in /usr/local/lib/python3.10/dist-packages (from pytesseract) (23.2)\n",
            "Requirement already satisfied: Pillow>=8.0.0 in /usr/local/lib/python3.10/dist-packages (from pytesseract) (9.4.0)\n",
            "Installing collected packages: pytesseract\n",
            "Successfully installed pytesseract-0.3.10\n"
          ]
        }
      ],
      "source": [
        "pip install pytesseract"
      ]
    },
    {
      "cell_type": "code",
      "execution_count": 5,
      "metadata": {
        "colab": {
          "base_uri": "https://localhost:8080/"
        },
        "id": "U4KqGraFwlfC",
        "outputId": "d4b5b3db-ea63-42de-c102-1e7859e26bc0"
      },
      "outputs": [
        {
          "output_type": "stream",
          "name": "stdout",
          "text": [
            "Requirement already satisfied: Pillow in /usr/local/lib/python3.10/dist-packages (9.4.0)\n"
          ]
        }
      ],
      "source": [
        "pip install  Pillow"
      ]
    },
    {
      "cell_type": "code",
      "execution_count": 6,
      "metadata": {
        "colab": {
          "base_uri": "https://localhost:8080/"
        },
        "id": "eqz60lT3wxfC",
        "outputId": "de8b45e9-a914-4581-d895-519817b94471"
      },
      "outputs": [
        {
          "output_type": "stream",
          "name": "stdout",
          "text": [
            "Collecting python-docx\n",
            "  Downloading python_docx-1.1.0-py3-none-any.whl (239 kB)\n",
            "\u001b[?25l     \u001b[90m━━━━━━━━━━━━━━━━━━━━━━━━━━━━━━━━━━━━━━━━\u001b[0m \u001b[32m0.0/239.6 kB\u001b[0m \u001b[31m?\u001b[0m eta \u001b[36m-:--:--\u001b[0m\r\u001b[2K     \u001b[91m━━━━━━━━━━━━━━━━━━━━━━━━━━━━━\u001b[0m\u001b[90m╺\u001b[0m\u001b[90m━━━━━━━━━━\u001b[0m \u001b[32m174.1/239.6 kB\u001b[0m \u001b[31m5.0 MB/s\u001b[0m eta \u001b[36m0:00:01\u001b[0m\r\u001b[2K     \u001b[90m━━━━━━━━━━━━━━━━━━━━━━━━━━━━━━━━━━━━━━━━\u001b[0m \u001b[32m239.6/239.6 kB\u001b[0m \u001b[31m4.8 MB/s\u001b[0m eta \u001b[36m0:00:00\u001b[0m\n",
            "\u001b[?25hRequirement already satisfied: lxml>=3.1.0 in /usr/local/lib/python3.10/dist-packages (from python-docx) (4.9.4)\n",
            "Requirement already satisfied: typing-extensions in /usr/local/lib/python3.10/dist-packages (from python-docx) (4.9.0)\n",
            "Installing collected packages: python-docx\n",
            "Successfully installed python-docx-1.1.0\n"
          ]
        }
      ],
      "source": [
        "pip install python-docx\n"
      ]
    },
    {
      "cell_type": "code",
      "execution_count": 7,
      "metadata": {
        "colab": {
          "base_uri": "https://localhost:8080/"
        },
        "id": "QzBk40V8xM5X",
        "outputId": "5dc45fb2-68cd-4e62-e862-cb4973df6b7c"
      },
      "outputs": [
        {
          "output_type": "stream",
          "name": "stdout",
          "text": [
            "Reading package lists... Done\n",
            "Building dependency tree... Done\n",
            "Reading state information... Done\n",
            "The following additional packages will be installed:\n",
            "  tesseract-ocr-eng tesseract-ocr-osd\n",
            "The following NEW packages will be installed:\n",
            "  tesseract-ocr tesseract-ocr-eng tesseract-ocr-osd\n",
            "0 upgraded, 3 newly installed, 0 to remove and 35 not upgraded.\n",
            "Need to get 4,816 kB of archives.\n",
            "After this operation, 15.6 MB of additional disk space will be used.\n",
            "Get:1 http://archive.ubuntu.com/ubuntu jammy/universe amd64 tesseract-ocr-eng all 1:4.00~git30-7274cfa-1.1 [1,591 kB]\n",
            "Get:2 http://archive.ubuntu.com/ubuntu jammy/universe amd64 tesseract-ocr-osd all 1:4.00~git30-7274cfa-1.1 [2,990 kB]\n",
            "Get:3 http://archive.ubuntu.com/ubuntu jammy/universe amd64 tesseract-ocr amd64 4.1.1-2.1build1 [236 kB]\n",
            "Fetched 4,816 kB in 0s (12.1 MB/s)\n",
            "debconf: unable to initialize frontend: Dialog\n",
            "debconf: (No usable dialog-like program is installed, so the dialog based frontend cannot be used. at /usr/share/perl5/Debconf/FrontEnd/Dialog.pm line 78, <> line 3.)\n",
            "debconf: falling back to frontend: Readline\n",
            "debconf: unable to initialize frontend: Readline\n",
            "debconf: (This frontend requires a controlling tty.)\n",
            "debconf: falling back to frontend: Teletype\n",
            "dpkg-preconfigure: unable to re-open stdin: \n",
            "Selecting previously unselected package tesseract-ocr-eng.\n",
            "(Reading database ... 121749 files and directories currently installed.)\n",
            "Preparing to unpack .../tesseract-ocr-eng_1%3a4.00~git30-7274cfa-1.1_all.deb ...\n",
            "Unpacking tesseract-ocr-eng (1:4.00~git30-7274cfa-1.1) ...\n",
            "Selecting previously unselected package tesseract-ocr-osd.\n",
            "Preparing to unpack .../tesseract-ocr-osd_1%3a4.00~git30-7274cfa-1.1_all.deb ...\n",
            "Unpacking tesseract-ocr-osd (1:4.00~git30-7274cfa-1.1) ...\n",
            "Selecting previously unselected package tesseract-ocr.\n",
            "Preparing to unpack .../tesseract-ocr_4.1.1-2.1build1_amd64.deb ...\n",
            "Unpacking tesseract-ocr (4.1.1-2.1build1) ...\n",
            "Setting up tesseract-ocr-eng (1:4.00~git30-7274cfa-1.1) ...\n",
            "Setting up tesseract-ocr-osd (1:4.00~git30-7274cfa-1.1) ...\n",
            "Setting up tesseract-ocr (4.1.1-2.1build1) ...\n",
            "Processing triggers for man-db (2.10.2-1) ...\n",
            "Requirement already satisfied: pytesseract in /usr/local/lib/python3.10/dist-packages (0.3.10)\n",
            "Requirement already satisfied: packaging>=21.3 in /usr/local/lib/python3.10/dist-packages (from pytesseract) (23.2)\n",
            "Requirement already satisfied: Pillow>=8.0.0 in /usr/local/lib/python3.10/dist-packages (from pytesseract) (9.4.0)\n"
          ]
        }
      ],
      "source": [
        "!sudo apt-get install tesseract-ocr\n",
        "!pip install pytesseract\n"
      ]
    },
    {
      "cell_type": "code",
      "execution_count": 8,
      "metadata": {
        "colab": {
          "base_uri": "https://localhost:8080/"
        },
        "id": "mBYCCotf4WBv",
        "outputId": "46fc6b52-ffd2-484b-e3b0-cfcdb0b2a31f"
      },
      "outputs": [
        {
          "output_type": "stream",
          "name": "stdout",
          "text": [
            "\u001b[31mERROR: Could not find a version that satisfies the requirement python-docx2txt (from versions: none)\u001b[0m\u001b[31m\n",
            "\u001b[0m\u001b[31mERROR: No matching distribution found for python-docx2txt\u001b[0m\u001b[31m\n",
            "\u001b[0m"
          ]
        }
      ],
      "source": [
        "pip install python-docx2txt docx2txt textract\n"
      ]
    },
    {
      "cell_type": "code",
      "source": [
        "from google.colab import drive\n",
        "drive.mount('/content/drive')"
      ],
      "metadata": {
        "id": "9ioS7cAcHdoy"
      },
      "execution_count": null,
      "outputs": []
    },
    {
      "cell_type": "code",
      "execution_count": 9,
      "metadata": {
        "id": "MOhLgeTRvGlz"
      },
      "outputs": [],
      "source": [
        "import PyPDF2\n",
        "from bs4 import BeautifulSoup\n",
        "from docx import Document\n",
        "from PIL import Image\n",
        "import pytesseract\n"
      ]
    },
    {
      "cell_type": "code",
      "execution_count": 19,
      "metadata": {
        "id": "dKUC-dgWvge3"
      },
      "outputs": [],
      "source": [
        "def extract_text_from_image(image_path):\n",
        "    img = Image.open(image_path)\n",
        "    text = pytesseract.image_to_string(img)\n",
        "    return text\n",
        "\n",
        "def extract_text_from_docx(docx_path):\n",
        "    doc = Document(docx_path)\n",
        "    text = ''\n",
        "    for paragraph in doc.paragraphs:\n",
        "        text += paragraph.text + '\\n'\n",
        "    return text\n",
        "\n",
        "def extract_text_from_pdf(pdf_path):\n",
        "    with open(pdf_path, 'rb') as f:\n",
        "        reader = PyPDF2.PdfReader(f)\n",
        "        text = ''\n",
        "        for page in reader.pages:\n",
        "            text += page.extract_text()\n",
        "        return text\n",
        "\n",
        "def extract_text_from_html(html_path):\n",
        "    with open(html_path, 'r', encoding='utf-8') as file:\n",
        "        soup = BeautifulSoup(file, 'html.parser')\n",
        "        text = soup.get_text(separator=' ')\n",
        "    return text"
      ]
    },
    {
      "cell_type": "code",
      "execution_count": 11,
      "metadata": {
        "id": "BDUjUexWvKLq"
      },
      "outputs": [],
      "source": [
        "# for taking the input of various type of documents .\n",
        "def extract_text_from_document(file_path):\n",
        "    if file_path.endswith('.pdf'):\n",
        "        return extract_text_from_pdf(file_path)\n",
        "    elif file_path.endswith(('.jpg', '.jpeg', '.png')):\n",
        "        return extract_text_from_image(file_path)\n",
        "    elif file_path.endswith('.docx'):\n",
        "        return extract_text_from_docx(file_path)\n",
        "    elif file_path.endswith('.html'):\n",
        "        return extract_text_from_html(file_path)\n",
        "    else:\n",
        "        raise ValueError(\"Unsupported document type\")"
      ]
    },
    {
      "cell_type": "code",
      "execution_count": 21,
      "metadata": {
        "colab": {
          "base_uri": "https://localhost:8080/"
        },
        "id": "uWBnVPkzvKJk",
        "outputId": "1bfcfc78-e392-43c2-809b-24531ac29dc8"
      },
      "outputs": [
        {
          "output_type": "stream",
          "name": "stdout",
          "text": [
            "\n",
            " \n",
            " \n",
            " \n",
            " \n",
            " \n",
            " \n",
            " \n",
            " \n",
            " \n",
            " \n",
            " \n",
            " \n",
            " \n",
            " Thomas Leon Highbaugh — Resume \n",
            " \n",
            " \n",
            " \n",
            " \n",
            " \n",
            " \n",
            " \n",
            " \n",
            " \n",
            " \n",
            "              Thomas Leon Highbaugh\n",
            "             \n",
            " \n",
            " \n",
            "              Full Stack Web Development\n",
            "             \n",
            " \n",
            " \n",
            "              San Francisco California\n",
            "             \n",
            " \n",
            " \n",
            " \n",
            " T \n",
            " L \n",
            " H \n",
            " \n",
            " \n",
            " \n",
            " \n",
            " \n",
            " \n",
            " \n",
            " \n",
            " \n",
            " \n",
            " \n",
            " \n",
            " \n",
            "                        Portfolio\n",
            "                       \n",
            "                      thomasleonhighbaughme\n",
            "                       \n",
            "                        ↗\n",
            "                       \n",
            " \n",
            " \n",
            " \n",
            " \n",
            " \n",
            "                        Github\n",
            "                       \n",
            "                      Thomashighbaugh\n",
            "                       \n",
            "                        ↗\n",
            "                       \n",
            " \n",
            " \n",
            " \n",
            " \n",
            " \n",
            "                        Email\n",
            "                       \n",
            "methomasleonhighbaughme\n",
            "                       \n",
            "                        ↗\n",
            "                       \n",
            " \n",
            " \n",
            " \n",
            " \n",
            " \n",
            "                        Phone\n",
            "                       \n",
            "                      15109070654\n",
            "                     \n",
            " \n",
            " \n",
            " \n",
            " \n",
            " \n",
            " \n",
            " \n",
            " \n",
            " \n",
            " \n",
            "                SUMMARY\n",
            "               \n",
            " \n",
            " \n",
            "               Experienced fullstack web developer with a strong track record of independently addressing complex business requirements and overcoming challenges to deliver polished and userfriendly web solutions\n",
            "                 \n",
            " \n",
            " \n",
            " \n",
            " \n",
            " \n",
            " \n",
            " \n",
            " \n",
            "            EDUCATION\n",
            "         \n",
            " \n",
            " \n",
            " \n",
            " \n",
            "                    California State University East Bay\n",
            "                 \n",
            " \n",
            "                    2009 – 2014  Bachelor of Arts\n",
            "                 \n",
            " \n",
            " \n",
            " \n",
            " \n",
            "                        Major\n",
            "                     \n",
            "                    Political Science\n",
            "                 \n",
            " \n",
            " \n",
            "                        Minor\n",
            "                     \n",
            "                    Economics\n",
            "                 \n",
            " \n",
            " \n",
            "                        GPA\n",
            "                     \n",
            "                    39\n",
            "                 \n",
            " \n",
            " \n",
            "                        Skills\n",
            "                     \n",
            "                    Research Analysis Critical Thinking Communication\n",
            "                 \n",
            " \n",
            " \n",
            " \n",
            " \n",
            " \n",
            " \n",
            "                    Las Positas Community College\n",
            "                 \n",
            " \n",
            "                    2018 – Present  Associate of ScienceContinuing\n",
            "                    Education\n",
            "                 \n",
            " \n",
            " \n",
            " \n",
            " \n",
            "                        Major\n",
            "                     \n",
            "                    Computer Science\n",
            "                 \n",
            " \n",
            " \n",
            "                        GPA\n",
            "                     \n",
            "                    40\n",
            "                 \n",
            " \n",
            " \n",
            "                        Skills\n",
            "                     \n",
            "                    Programming Algorithms Data Structures Software Development\n",
            "                 \n",
            " \n",
            " \n",
            " \n",
            " \n",
            " \n",
            " \n",
            "                    Codify Academy\n",
            "                 \n",
            " \n",
            "                    2018  Certificate\n",
            "                 \n",
            " \n",
            " \n",
            " \n",
            " \n",
            "                        Subject\n",
            "                     \n",
            "                    Front End Development\n",
            "                 \n",
            " \n",
            " \n",
            "                        Skills\n",
            "                     \n",
            "                    HTML CSS JavaScript Web Development\n",
            "                 \n",
            " \n",
            " \n",
            " \n",
            " \n",
            " \n",
            " \n",
            " \n",
            " \n",
            " \n",
            "                  SKILLS\n",
            "                 \n",
            " \n",
            " \n",
            " \n",
            " \n",
            "            HTML5\n",
            "         \n",
            " \n",
            "            CSS3\n",
            "         \n",
            " \n",
            "            JavaScript\n",
            "         \n",
            " \n",
            "            TypeScript\n",
            "         \n",
            " \n",
            "            Nodejs\n",
            "         \n",
            " \n",
            "            Reactjs\n",
            "         \n",
            " \n",
            "            Python\n",
            "         \n",
            " \n",
            "            NoSQL\n",
            "         \n",
            " \n",
            "            Postgresql\n",
            "         \n",
            " \n",
            "            MongoDB\n",
            "         \n",
            " \n",
            "            Linux\n",
            "         \n",
            " \n",
            "            AWS\n",
            "         \n",
            " \n",
            "LLMAI Prompting\n",
            "\t\t\t\t\t\t\t\t\t\t\t\t \n",
            " \n",
            "\t\t\t\t\t\t\t\t\t\t\tWeb Design\n",
            "\t\t\t\t\t\t\t\t\t\t\t \n",
            " UIUX    CICD  \n",
            "  Lua  \n",
            " \n",
            " \n",
            " \n",
            " \n",
            " \n",
            " \n",
            " \n",
            " \n",
            " \n",
            " \n",
            "            EXPERIENCE\n",
            "         \n",
            " \n",
            " \n",
            " \n",
            " \n",
            "                    Full Stack Web Developer\n",
            "                 \n",
            " \n",
            "                    Jun 2018 – Present  Freelance\n",
            "                 \n",
            " \n",
            " \n",
            " \n",
            " \n",
            "                        ›\n",
            "                     \n",
            "                    Created highquality customized web applications from scratch employing a diverse set of programming languages including HTML CSS JavaScript PHP and Python to fulfill unique client requirements\n",
            "                 \n",
            " \n",
            " \n",
            "                        ›\n",
            "                     \n",
            "                    Leveraged a range of bleeding edge frontend frameworks like Reactjs Nullstack and Vuejs as well as backend frameworks such as Nodejs and Express to deliver robust and scalable web solutions\n",
            "                 \n",
            " \n",
            " \n",
            "                        ›\n",
            "                     \n",
            "                    Designed and implemented databases using SQL and NoSQL technologies like MySQL PostgreSQL MongoDB and Firebase optimizing data storage and management\n",
            "                 \n",
            " \n",
            " \n",
            " \n",
            " \n",
            " \n",
            " \n",
            "                    Computer Repair Technician\n",
            "                 \n",
            " \n",
            "                    Mar 2018 – Present  Freelance\n",
            "                 \n",
            " \n",
            " \n",
            " \n",
            " \n",
            "                        ›\n",
            "                     \n",
            "                    Provided expert computer repair services to individuals and businesses diagnosing and resolving hardware and software issues effectively\n",
            "                 \n",
            " \n",
            " \n",
            "                        ›\n",
            "                     \n",
            "                    Demonstrated proficiency across diverse operating systems Windows macOS Linux and hardware components offering tailored solutions including hardware upgrades software installations and malware removal\n",
            "                 \n",
            " \n",
            " \n",
            " \n",
            " \n",
            " \n",
            " \n",
            "                    Assistant Manager\n",
            "                 \n",
            " \n",
            "                    May 2012 – Apr 2018  Pet Food Express\n",
            "                 \n",
            " \n",
            " \n",
            " \n",
            " \n",
            "                        ›\n",
            "                     \n",
            "                    Trained and supervised staff in product knowledge customer engagement and sales techniques ensuring a topnotch shopping experience for customers\n",
            "                 \n",
            " \n",
            " \n",
            "                        ›\n",
            "                     \n",
            "                    Maintained a pristine and organized store environment fostering maximum customer satisfaction\n",
            "                 \n",
            " \n",
            " \n",
            "                        ›\n",
            "                     \n",
            "                    Demonstrated deep expertise in the pet food industry including trends products and competitors providing customers with informed recommendations and advice\n",
            "                 \n",
            " \n",
            " \n",
            " \n",
            " \n",
            " \n",
            " \n",
            "                    Executive Assistant\n",
            "                 \n",
            " \n",
            "                    Jun 2009 – Dec 2011  360 Custom Closets and Cabinets\n",
            "                 \n",
            " \n",
            " \n",
            " \n",
            " \n",
            "                        ›\n",
            "                     \n",
            "                    Provided highlevel administrative support to the small business executive managing schedules travel arrangements and coordinating meetings and events\n",
            "                 \n",
            " \n",
            " \n",
            "                        ›\n",
            "                     \n",
            "                    Managed communication on behalf of the executive including answering phone calls and emails ensuring timely and professional responses to inquiries and requests\n",
            "                 \n",
            " \n",
            " \n",
            "                        ›\n",
            "                     \n",
            "                    Maintained relationships with vendors clients and external stakeholders ensuring professionalism and alignment with the businesss values\n",
            "                 \n",
            " \n",
            " \n",
            " \n",
            " \n",
            " \n",
            " \n",
            " \n",
            " \n",
            " \n",
            " \n",
            "\n"
          ]
        }
      ],
      "source": [
        "import string,time\n",
        "exclude = string.punctuation\n",
        "def remove_punc(text):\n",
        "  for char in exclude:\n",
        "    text = text.replace(char , '')\n",
        "  return text\n",
        "\n",
        "file_path = '/content/drive/MyDrive/resume_parser/index.4.html'\n",
        "try:\n",
        "    document_text = extract_text_from_document(file_path)\n",
        "    print(remove_punc(document_text))\n",
        "except ValueError as e:\n",
        "    print(f\"Error: {e}\")\n",
        "\n",
        "\n"
      ]
    }
  ],
  "metadata": {
    "colab": {
      "provenance": []
    },
    "kernelspec": {
      "display_name": "Python 3",
      "name": "python3"
    },
    "language_info": {
      "name": "python"
    }
  },
  "nbformat": 4,
  "nbformat_minor": 0
}